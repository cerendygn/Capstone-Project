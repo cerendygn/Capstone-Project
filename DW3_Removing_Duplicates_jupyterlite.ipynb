{
  "cells": [
    {
      "cell_type": "markdown",
      "metadata": {
        "id": "9c06fdcc-421a-46c2-949d-a579b1e20e55"
      },
      "source": [
        "<p style=\"text-align:center\">\n",
        "    <a href=\"https://skills.network\" target=\"_blank\">\n",
        "    <img src=\"https://cf-courses-data.s3.us.cloud-object-storage.appdomain.cloud/assets/logos/SN_web_lightmode.png\" width=\"200\" alt=\"Skills Network Logo\"  />\n",
        "    </a>\n",
        "</p>\n"
      ]
    },
    {
      "cell_type": "markdown",
      "metadata": {
        "id": "61dae894-7e6f-4049-ad89-28c7295a386e"
      },
      "source": [
        "# **Removing Duplicates**\n"
      ]
    },
    {
      "cell_type": "markdown",
      "metadata": {
        "id": "95fea4c1-f8e5-4ca1-9fd9-5efb239e44c7"
      },
      "source": [
        "Estimated time needed: **45 to 60** minutes\n"
      ]
    },
    {
      "cell_type": "markdown",
      "metadata": {
        "id": "592eb6d9-0ba6-4c28-9adb-e972852b6943"
      },
      "source": [
        "## Introduction\n"
      ]
    },
    {
      "cell_type": "markdown",
      "metadata": {
        "id": "cd76f319-8e7e-408a-a2cc-53a78c4d48d4"
      },
      "source": [
        "In this lab, you will focus on data wrangling, an important step in preparing data for analysis. Data wrangling involves cleaning and organizing data to make it suitable for analysis. One key task in this process is removing duplicate entries, which are repeated entries that can distort analysis and lead to inaccurate conclusions.  \n"
      ]
    },
    {
      "cell_type": "markdown",
      "metadata": {
        "id": "595c4424-6dcb-491e-aecd-ac830c71a393"
      },
      "source": [
        "## Objectives\n"
      ]
    },
    {
      "cell_type": "markdown",
      "metadata": {
        "id": "2e0b98e7-c074-47d7-8fc0-61286f3031aa"
      },
      "source": [
        "In this lab you will perform the following:\n"
      ]
    },
    {
      "cell_type": "markdown",
      "metadata": {
        "id": "2b8be0a5-d65c-43c0-af2c-fb6e8e9251f3"
      },
      "source": [
        "1. Identify duplicate rows  in the dataset.\n",
        "2. Use suitable techniques to remove duplicate rows and verify the removal.\n",
        "3. Summarize how to handle missing values appropriately.\n",
        "4. Use ConvertedCompYearly to normalize compensation data.\n",
        "   \n"
      ]
    },
    {
      "cell_type": "markdown",
      "metadata": {
        "id": "47ef63f6-5f6f-429a-9776-d3d9acc1a432"
      },
      "source": [
        "### Install the Required Libraries\n"
      ]
    },
    {
      "cell_type": "code",
      "metadata": {
        "colab": {
          "base_uri": "https://localhost:8080/"
        },
        "id": "64a7efff-df6d-45b7-a0e5-b57e2c098c80",
        "outputId": "bdd78c72-aa9a-4aad-88bb-e743d64b1654"
      },
      "outputs": [
        {
          "output_type": "stream",
          "name": "stdout",
          "text": [
            "Requirement already satisfied: pandas in /usr/local/lib/python3.12/dist-packages (2.2.2)\n",
            "Requirement already satisfied: numpy>=1.26.0 in /usr/local/lib/python3.12/dist-packages (from pandas) (2.0.2)\n",
            "Requirement already satisfied: python-dateutil>=2.8.2 in /usr/local/lib/python3.12/dist-packages (from pandas) (2.9.0.post0)\n",
            "Requirement already satisfied: pytz>=2020.1 in /usr/local/lib/python3.12/dist-packages (from pandas) (2025.2)\n",
            "Requirement already satisfied: tzdata>=2022.7 in /usr/local/lib/python3.12/dist-packages (from pandas) (2025.2)\n",
            "Requirement already satisfied: six>=1.5 in /usr/local/lib/python3.12/dist-packages (from python-dateutil>=2.8.2->pandas) (1.17.0)\n"
          ]
        }
      ],
      "source": [
        "!pip install pandas"
      ],
      "execution_count": 5
    },
    {
      "cell_type": "markdown",
      "metadata": {
        "id": "0e2694af-c2e4-4755-a900-efc385425f1f"
      },
      "source": [
        "### Step 1: Import Required Libraries\n"
      ]
    },
    {
      "cell_type": "code",
      "metadata": {
        "id": "32ff93ab-d691-4619-b164-77f8f4b8afd0"
      },
      "outputs": [],
      "source": [
        "import pandas as pd"
      ],
      "execution_count": 6
    },
    {
      "cell_type": "markdown",
      "metadata": {
        "id": "f0a26da2-5e8e-40b5-aa77-e3572a408466"
      },
      "source": [
        "### Step 2: Load the Dataset into a DataFrame\n"
      ]
    },
    {
      "cell_type": "markdown",
      "metadata": {
        "id": "33d89389-bc92-4957-a7e8-3940a651b158"
      },
      "source": [
        "#### **Read Data**\n"
      ]
    },
    {
      "cell_type": "markdown",
      "metadata": {
        "id": "a0036976-1f29-4986-a7bc-e025b19b4b84"
      },
      "source": [
        "If you are using JupyterLite, use the code below to download the dataset into your environment. If you are using a local environment, you can use the direct URL with <code>pd.read_csv()</code>.\n"
      ]
    },
    {
      "cell_type": "code",
      "metadata": {
        "colab": {
          "base_uri": "https://localhost:8080/"
        },
        "id": "c59463d7-475e-489d-bddb-93950e5380a1",
        "outputId": "f3da81db-58bb-4261-ece7-cd2e5fe4760c"
      },
      "outputs": [
        {
          "output_type": "stream",
          "name": "stdout",
          "text": [
            "Number of rows: 65437\n"
          ]
        }
      ],
      "source": [
        "# Load the dataset directly from the URL\n",
        "file_path = df = \"https://cf-courses-data.s3.us.cloud-object-storage.appdomain.cloud/n01PQ9pSmiRX6520flujwQ/survey-data.csv\"\n",
        "df = pd.read_csv(file_path)\n",
        "print(\"Number of rows:\", df.shape[0])\n"
      ],
      "execution_count": 7
    },
    {
      "cell_type": "markdown",
      "metadata": {
        "id": "f8fbb262-83ad-4b4b-9a66-60b942ebe17c"
      },
      "source": [
        "**Load the data into a pandas dataframe:**\n"
      ]
    },
    {
      "cell_type": "code",
      "metadata": {
        "colab": {
          "base_uri": "https://localhost:8080/"
        },
        "id": "84381dc9-7d78-4399-9733-2845bf533498",
        "outputId": "2cd253b0-c276-41bd-fd20-56e2d247619d"
      },
      "outputs": [
        {
          "output_type": "stream",
          "name": "stdout",
          "text": [
            "   ResponseId                      MainBranch                 Age  \\\n",
            "0           1  I am a developer by profession  Under 18 years old   \n",
            "1           2  I am a developer by profession     35-44 years old   \n",
            "2           3  I am a developer by profession     45-54 years old   \n",
            "3           4           I am learning to code     18-24 years old   \n",
            "4           5  I am a developer by profession     18-24 years old   \n",
            "\n",
            "            Employment RemoteWork   Check  \\\n",
            "0  Employed, full-time     Remote  Apples   \n",
            "1  Employed, full-time     Remote  Apples   \n",
            "2  Employed, full-time     Remote  Apples   \n",
            "3   Student, full-time        NaN  Apples   \n",
            "4   Student, full-time        NaN  Apples   \n",
            "\n",
            "                                    CodingActivities  \\\n",
            "0                                              Hobby   \n",
            "1  Hobby;Contribute to open-source projects;Other...   \n",
            "2  Hobby;Contribute to open-source projects;Other...   \n",
            "3                                                NaN   \n",
            "4                                                NaN   \n",
            "\n",
            "                                             EdLevel  \\\n",
            "0                          Primary/elementary school   \n",
            "1       Bachelor’s degree (B.A., B.S., B.Eng., etc.)   \n",
            "2    Master’s degree (M.A., M.S., M.Eng., MBA, etc.)   \n",
            "3  Some college/university study without earning ...   \n",
            "4  Secondary school (e.g. American high school, G...   \n",
            "\n",
            "                                           LearnCode  \\\n",
            "0                             Books / Physical media   \n",
            "1  Books / Physical media;Colleague;On the job tr...   \n",
            "2  Books / Physical media;Colleague;On the job tr...   \n",
            "3  Other online resources (e.g., videos, blogs, f...   \n",
            "4  Other online resources (e.g., videos, blogs, f...   \n",
            "\n",
            "                                     LearnCodeOnline  ... JobSatPoints_6  \\\n",
            "0                                                NaN  ...            NaN   \n",
            "1  Technical documentation;Blogs;Books;Written Tu...  ...            0.0   \n",
            "2  Technical documentation;Blogs;Books;Written Tu...  ...            NaN   \n",
            "3  Stack Overflow;How-to videos;Interactive tutorial  ...            NaN   \n",
            "4  Technical documentation;Blogs;Written Tutorial...  ...            NaN   \n",
            "\n",
            "  JobSatPoints_7 JobSatPoints_8 JobSatPoints_9 JobSatPoints_10  \\\n",
            "0            NaN            NaN            NaN             NaN   \n",
            "1            0.0            0.0            0.0             0.0   \n",
            "2            NaN            NaN            NaN             NaN   \n",
            "3            NaN            NaN            NaN             NaN   \n",
            "4            NaN            NaN            NaN             NaN   \n",
            "\n",
            "  JobSatPoints_11           SurveyLength SurveyEase ConvertedCompYearly JobSat  \n",
            "0             NaN                    NaN        NaN                 NaN    NaN  \n",
            "1             0.0                    NaN        NaN                 NaN    NaN  \n",
            "2             NaN  Appropriate in length       Easy                 NaN    NaN  \n",
            "3             NaN               Too long       Easy                 NaN    NaN  \n",
            "4             NaN              Too short       Easy                 NaN    NaN  \n",
            "\n",
            "[5 rows x 114 columns]\n"
          ]
        }
      ],
      "source": [
        "print(df.head())"
      ],
      "execution_count": 8
    },
    {
      "cell_type": "markdown",
      "metadata": {
        "id": "08cefe1d-ebd0-4b75-8c31-41165bd70ee6"
      },
      "source": [
        "**Note: If you are working on a local Jupyter environment, you can use the URL directly in the <code>pandas.read_csv()</code>  function as shown below:**\n",
        "\n"
      ]
    },
    {
      "cell_type": "markdown",
      "metadata": {
        "id": "1055e943-8523-48d6-a9e8-528f712a6fba"
      },
      "source": [
        "##### df = pd.read_csv(\"https://cf-courses-data.s3.us.cloud-object-storage.appdomain.cloud/n01PQ9pSmiRX6520flujwQ/survey-data.csv\")\n"
      ]
    },
    {
      "cell_type": "markdown",
      "metadata": {
        "id": "7ac2e82f-3e0b-4c5d-94d2-b3a45953d0b3"
      },
      "source": [
        "### Step 3: Identifying Duplicate Rows\n"
      ]
    },
    {
      "cell_type": "markdown",
      "metadata": {
        "id": "c07e51cf-5025-449d-8502-2253e1f5705b"
      },
      "source": [
        "**Task 1: Identify Duplicate Rows**\n",
        "  1. Count the number of duplicate rows in the dataset.\n",
        "  2. Display the first few duplicate rows to understand their structure.\n"
      ]
    },
    {
      "cell_type": "code",
      "metadata": {
        "colab": {
          "base_uri": "https://localhost:8080/"
        },
        "id": "829ae242-52c6-43ff-8aa3-a4b9dde8f8d0",
        "outputId": "f7e86fb7-9d59-41b1-bec8-bcc149356d2a"
      },
      "outputs": [
        {
          "output_type": "stream",
          "name": "stdout",
          "text": [
            "Number of duplicate rows: 0\n",
            "Empty DataFrame\n",
            "Columns: [ResponseId, MainBranch, Age, Employment, RemoteWork, Check, CodingActivities, EdLevel, LearnCode, LearnCodeOnline, TechDoc, YearsCode, YearsCodePro, DevType, OrgSize, PurchaseInfluence, BuyNewTool, BuildvsBuy, TechEndorse, Country, Currency, CompTotal, LanguageHaveWorkedWith, LanguageWantToWorkWith, LanguageAdmired, DatabaseHaveWorkedWith, DatabaseWantToWorkWith, DatabaseAdmired, PlatformHaveWorkedWith, PlatformWantToWorkWith, PlatformAdmired, WebframeHaveWorkedWith, WebframeWantToWorkWith, WebframeAdmired, EmbeddedHaveWorkedWith, EmbeddedWantToWorkWith, EmbeddedAdmired, MiscTechHaveWorkedWith, MiscTechWantToWorkWith, MiscTechAdmired, ToolsTechHaveWorkedWith, ToolsTechWantToWorkWith, ToolsTechAdmired, NEWCollabToolsHaveWorkedWith, NEWCollabToolsWantToWorkWith, NEWCollabToolsAdmired, OpSysPersonal use, OpSysProfessional use, OfficeStackAsyncHaveWorkedWith, OfficeStackAsyncWantToWorkWith, OfficeStackAsyncAdmired, OfficeStackSyncHaveWorkedWith, OfficeStackSyncWantToWorkWith, OfficeStackSyncAdmired, AISearchDevHaveWorkedWith, AISearchDevWantToWorkWith, AISearchDevAdmired, NEWSOSites, SOVisitFreq, SOAccount, SOPartFreq, SOHow, SOComm, AISelect, AISent, AIBen, AIAcc, AIComplex, AIToolCurrently Using, AIToolInterested in Using, AIToolNot interested in Using, AINextMuch more integrated, AINextNo change, AINextMore integrated, AINextLess integrated, AINextMuch less integrated, AIThreat, AIEthics, AIChallenges, TBranch, ICorPM, WorkExp, Knowledge_1, Knowledge_2, Knowledge_3, Knowledge_4, Knowledge_5, Knowledge_6, Knowledge_7, Knowledge_8, Knowledge_9, Frequency_1, Frequency_2, Frequency_3, TimeSearching, TimeAnswering, Frustration, ProfessionalTech, ProfessionalCloud, ProfessionalQuestion, ...]\n",
            "Index: []\n",
            "\n",
            "[0 rows x 114 columns]\n"
          ]
        }
      ],
      "source": [
        "#TASK 3.1\n",
        "num_duplicated =df.duplicated().sum()\n",
        "print(f\"Number of duplicate rows: {num_duplicated}\")\n",
        "\n",
        "#TASK 3.2\n",
        "duplicate_rows = df[df.duplicated(keep= False)]\n",
        "print(duplicate_rows.head())"
      ],
      "execution_count": 9
    },
    {
      "cell_type": "code",
      "source": [
        "print(\"Unique ResponseId:\", df['ResponseId'].nunique())\n",
        "print(\"Total rows:\", len(df))\n",
        "\n",
        "if df['ResponseId'].nunique() == len(df):\n",
        "    print(\"Each line is unique, no duplicates ✅\")\n",
        "else:\n",
        "    print(\"There are repeating records with the same ResponseId ❗\")"
      ],
      "metadata": {
        "colab": {
          "base_uri": "https://localhost:8080/"
        },
        "id": "l_06S3tuP0Zw",
        "outputId": "a96c48a2-82c2-4f52-f698-b20d2dfe0a5d"
      },
      "execution_count": 10,
      "outputs": [
        {
          "output_type": "stream",
          "name": "stdout",
          "text": [
            "Unique ResponseId: 65437\n",
            "Total rows: 65437\n",
            "Each line is unique, no duplicates ✅\n"
          ]
        }
      ]
    },
    {
      "cell_type": "markdown",
      "source": [],
      "metadata": {
        "id": "kXqo-xLZKgFy"
      }
    },
    {
      "cell_type": "markdown",
      "metadata": {
        "id": "4eabe8f9-8d48-406e-9364-9385cc2e93dd"
      },
      "source": [
        "### Step 4: Removing Duplicate Rows\n"
      ]
    },
    {
      "cell_type": "markdown",
      "metadata": {
        "id": "2a612ce2-e214-468d-863c-319889bd7f03"
      },
      "source": [
        "**Task 2: Remove Duplicates**\n",
        "   1. Remove duplicate rows from the dataset using the drop_duplicates() function.\n",
        "2. Verify the removal by counting the number of duplicate rows after removal .\n"
      ]
    },
    {
      "cell_type": "code",
      "metadata": {
        "colab": {
          "base_uri": "https://localhost:8080/"
        },
        "id": "c7baa7d9-53e8-4237-bfcd-e3228c92aae4",
        "outputId": "ec07119d-8918-4d57-8007-692ca0998fba"
      },
      "outputs": [
        {
          "output_type": "stream",
          "name": "stdout",
          "text": [
            "Number of duplicate rows after removal: 0\n"
          ]
        }
      ],
      "source": [
        "# TASK 4.1\n",
        "df_withno_dup = df.drop_duplicates(keep= 'first')\n",
        "\n",
        "#TASK 4.2\n",
        "num_duplicates_after = df_withno_dup.duplicated().sum()\n",
        "print(f\"Number of duplicate rows after removal: {num_duplicates_after }\")\n"
      ],
      "execution_count": 11
    },
    {
      "cell_type": "markdown",
      "metadata": {
        "id": "be06f8d7-a07a-489e-a5bd-c4b84e8c5f7c"
      },
      "source": [
        "### Step 5: Handling Missing Values\n"
      ]
    },
    {
      "cell_type": "markdown",
      "metadata": {
        "id": "cc9ad921-45a0-492c-b52e-062204402a25"
      },
      "source": [
        "**Task 3: Identify and Handle Missing Values**\n",
        "   1. Identify missing values for all columns in the dataset.\n",
        "   2. Choose a column with significant missing values (e.g., EdLevel) and impute with the most frequent value.\n"
      ]
    },
    {
      "cell_type": "code",
      "metadata": {
        "colab": {
          "base_uri": "https://localhost:8080/"
        },
        "id": "ae28feab-86b7-4202-bb6f-e92c926eb99d",
        "outputId": "501a2683-7161-402b-a552-d7f9b117b052"
      },
      "outputs": [
        {
          "output_type": "stream",
          "name": "stdout",
          "text": [
            "ResponseId                 0\n",
            "MainBranch                 0\n",
            "Age                        0\n",
            "Employment                 0\n",
            "RemoteWork             10631\n",
            "                       ...  \n",
            "JobSatPoints_11        35992\n",
            "SurveyLength            9255\n",
            "SurveyEase              9199\n",
            "ConvertedCompYearly    42002\n",
            "JobSat                 36311\n",
            "Length: 114, dtype: int64\n",
            "Missing values in 'EdLevel' have been imputed with the most frequent value.\n"
          ]
        },
        {
          "output_type": "stream",
          "name": "stderr",
          "text": [
            "/tmp/ipython-input-2326297958.py:8: FutureWarning: A value is trying to be set on a copy of a DataFrame or Series through chained assignment using an inplace method.\n",
            "The behavior will change in pandas 3.0. This inplace method will never work because the intermediate object on which we are setting values always behaves as a copy.\n",
            "\n",
            "For example, when doing 'df[col].method(value, inplace=True)', try using 'df.method({col: value}, inplace=True)' or df[col] = df[col].method(value) instead, to perform the operation inplace on the original object.\n",
            "\n",
            "\n",
            "  df['EdLevel'].fillna(most_frequent_edlevel, inplace=True)\n"
          ]
        }
      ],
      "source": [
        "#TASK 5.1\n",
        "missing_values = df.isnull().sum()\n",
        "print(missing_values)\n",
        "\n",
        "#TASK 5.2\n",
        "if 'EdLevel' in df.columns:\n",
        "    most_frequent_edlevel = df['EdLevel'].mode()[0]\n",
        "    df['EdLevel'].fillna(most_frequent_edlevel, inplace=True)\n",
        "    print(\"Missing values in 'EdLevel' have been imputed with the most frequent value.\")\n",
        "else:\n",
        "    print(\"'EdLevel' column not found in the DataFrame.\")\n"
      ],
      "execution_count": 12
    },
    {
      "cell_type": "markdown",
      "metadata": {
        "id": "86335c8e-529d-4a63-82f6-96e222f07a1e"
      },
      "source": [
        "### Step 6: Normalizing Compensation Data\n"
      ]
    },
    {
      "cell_type": "markdown",
      "metadata": {
        "id": "404a5e09-d680-49b6-ae78-6e41274d56dc"
      },
      "source": [
        "**Task 4: Normalize Compensation Data Using ConvertedCompYearly**\n",
        "   1. Use the ConvertedCompYearly column for compensation analysis as the normalized annual compensation is already provided.\n",
        "   2. Check for missing values in ConvertedCompYearly and handle them if necessary.\n"
      ]
    },
    {
      "cell_type": "code",
      "metadata": {
        "colab": {
          "base_uri": "https://localhost:8080/"
        },
        "id": "dfafd49c-d4c5-4fc4-8266-ecad29e6480d",
        "outputId": "62d1fd0b-d351-4cb8-9544-8bb46548cfbd"
      },
      "outputs": [
        {
          "output_type": "stream",
          "name": "stdout",
          "text": [
            "No missing values found in 'ConvertedCompYearly'.\n",
            "Missing values in 'ConvertedCompYearly' have been imputed with the median value.\n"
          ]
        },
        {
          "output_type": "stream",
          "name": "stderr",
          "text": [
            "/tmp/ipython-input-429662384.py:16: FutureWarning: A value is trying to be set on a copy of a DataFrame or Series through chained assignment using an inplace method.\n",
            "The behavior will change in pandas 3.0. This inplace method will never work because the intermediate object on which we are setting values always behaves as a copy.\n",
            "\n",
            "For example, when doing 'df[col].method(value, inplace=True)', try using 'df.method({col: value}, inplace=True)' or df[col] = df[col].method(value) instead, to perform the operation inplace on the original object.\n",
            "\n",
            "\n",
            "  df['ConvertedCompYearly'].fillna(median_comp, inplace=True)\n"
          ]
        }
      ],
      "source": [
        "#TASK 6.1-2\n",
        "\n",
        "if 'ConvertedCompYearly' in df.columns:\n",
        "    # Check for missing values\n",
        "    missing_values = df['ConvertedCompYearly'].isnull().sum()\n",
        "    if missing_values > 0:\n",
        "        print(f\"Number of missing values in 'ConvertedCompYearly': {missing_values}\")\n",
        "    else:\n",
        "        print(\"No missing values found in 'ConvertedCompYearly'.\")\n",
        "else:\n",
        "    print(\"'ConvertedCompYearly' column not found in the DataFrame.\")\n",
        "\n",
        "\n",
        "#TASK 6.2\n",
        "median_comp= df['ConvertedCompYearly'].median()\n",
        "df['ConvertedCompYearly'].fillna(median_comp, inplace=True)\n",
        "print(\"Missing values in 'ConvertedCompYearly' have been imputed with the median value.\")\n"
      ],
      "execution_count": 15
    },
    {
      "cell_type": "markdown",
      "metadata": {
        "id": "50ec16e0-6dc9-4405-851a-7b8806d77775"
      },
      "source": [
        "### Step 7: Summary and Next Steps\n"
      ]
    },
    {
      "cell_type": "markdown",
      "metadata": {
        "id": "4939509b-0488-40b9-8f8b-383017ea6242"
      },
      "source": [
        "**In this lab, you focused on identifying and removing duplicate rows.**\n",
        "\n",
        "- You handled missing values by imputing the most frequent value in a chosen column.\n",
        "\n",
        "- You used ConvertedCompYearly for compensation normalization and handled missing values.\n",
        "\n",
        "- For further analysis, consider exploring other columns or visualizing the cleaned dataset.\n"
      ]
    },
    {
      "cell_type": "markdown",
      "metadata": {
        "id": "d4f4bad0-a216-4721-b6e7-c0fe1cd51e18"
      },
      "source": [
        "<!--\n",
        "## Change Log\n",
        "\n",
        "|Date (YYYY-MM-DD)|Version|Changed By|Change Description|\n",
        "|-|-|-|-|\n",
        "|2024-11-05|1.2|Madhusudhan Moole|Updated lab|\n",
        "|2024-09-24|1.1|Madhusudhan Moole|Updated lab|\n",
        "|2024-09-23|1.0|Raghul Ramesh|Created lab|\n",
        "\n",
        "--!>\n"
      ]
    },
    {
      "cell_type": "markdown",
      "metadata": {
        "id": "6810f006-53ee-493e-a29f-837f4ab73310"
      },
      "source": [
        "## <h3 align=\"center\"> © IBM Corporation. All rights reserved. <h3/>\n"
      ]
    }
  ],
  "metadata": {
    "kernelspec": {
      "name": "python",
      "display_name": "Python (Pyodide)",
      "language": "python"
    },
    "language_info": {
      "codemirror_mode": {
        "name": "python",
        "version": 3
      },
      "file_extension": ".py",
      "mimetype": "text/x-python",
      "name": "python",
      "nbconvert_exporter": "python",
      "pygments_lexer": "ipython3",
      "version": "3.8"
    },
    "prev_pub_hash": "f78dd679c054b4b4ba83764fae76e380612ff2780b7f9452119e6c3f45824b5a",
    "colab": {
      "provenance": []
    }
  },
  "nbformat": 4,
  "nbformat_minor": 0
}