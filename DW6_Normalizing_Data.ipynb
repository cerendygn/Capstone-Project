{
  "cells": [
    {
      "cell_type": "markdown",
      "metadata": {
        "id": "14203a60-227e-481b-829e-e1c766c76bc9"
      },
      "source": [
        "<p style=\"text-align:center\">\n",
        "    <a href=\"https://skills.network\" target=\"_blank\">\n",
        "    <img src=\"https://cf-courses-data.s3.us.cloud-object-storage.appdomain.cloud/assets/logos/SN_web_lightmode.png\" width=\"200\" alt=\"Skills Network Logo\"  />\n",
        "    </a>\n",
        "</p>\n"
      ]
    },
    {
      "cell_type": "markdown",
      "metadata": {
        "id": "15ea3bd5-1a24-4cf1-8bc2-e816c057d0f6"
      },
      "source": [
        "# **Data Normalization Techniques**\n"
      ]
    },
    {
      "cell_type": "markdown",
      "metadata": {
        "id": "60cfbc2d-b49a-480a-82af-be76fad1b598"
      },
      "source": [
        "Estimated time needed: **30** minutes\n"
      ]
    },
    {
      "cell_type": "markdown",
      "metadata": {
        "id": "0fec6aac-8453-4b57-acc2-3b831984ef7c"
      },
      "source": [
        "In this lab, you will focus on data normalization. This includes identifying compensation-related columns, applying normalization techniques, and visualizing the data distributions.\n"
      ]
    },
    {
      "cell_type": "markdown",
      "metadata": {
        "id": "5db826cf-7557-4ccb-9c3e-2f73fa996b10"
      },
      "source": [
        "## Objectives\n"
      ]
    },
    {
      "cell_type": "markdown",
      "metadata": {
        "id": "14e63e1d-316a-45b0-a40a-d05bc3aed15e"
      },
      "source": [
        "In this lab, you will perform the following:\n"
      ]
    },
    {
      "cell_type": "markdown",
      "metadata": {
        "id": "8dbc4a2e-8145-4f56-8916-e213f9ebc01d"
      },
      "source": [
        "- Identify duplicate rows and remove them.\n",
        "\n",
        "- Check and handle missing values in key columns.\n",
        "\n",
        "- Identify and normalize compensation-related columns.\n",
        "\n",
        "- Visualize the effect of normalization techniques on data distributions.\n"
      ]
    },
    {
      "cell_type": "markdown",
      "metadata": {
        "id": "3d8ab283-6194-4223-9856-93c78a57eea1"
      },
      "source": [
        "-----\n"
      ]
    },
    {
      "cell_type": "markdown",
      "metadata": {
        "id": "7277168a-3e58-4583-a167-a5d214cfbb02"
      },
      "source": [
        "## Hands on Lab\n"
      ]
    },
    {
      "cell_type": "markdown",
      "metadata": {
        "id": "97d8f035-4fef-4ecd-af2d-5be3dd92b6c2"
      },
      "source": [
        "#### Step 1: Install and Import Libraries\n"
      ]
    },
    {
      "cell_type": "code",
      "metadata": {
        "colab": {
          "base_uri": "https://localhost:8080/"
        },
        "id": "a5a92e35-c620-46e3-b69d-62784d36005d",
        "outputId": "97092be7-1e16-483e-8c31-a18059a2adb4"
      },
      "outputs": [
        {
          "output_type": "stream",
          "name": "stdout",
          "text": [
            "Requirement already satisfied: pandas in /usr/local/lib/python3.12/dist-packages (2.2.2)\n",
            "Requirement already satisfied: numpy>=1.26.0 in /usr/local/lib/python3.12/dist-packages (from pandas) (2.0.2)\n",
            "Requirement already satisfied: python-dateutil>=2.8.2 in /usr/local/lib/python3.12/dist-packages (from pandas) (2.9.0.post0)\n",
            "Requirement already satisfied: pytz>=2020.1 in /usr/local/lib/python3.12/dist-packages (from pandas) (2025.2)\n",
            "Requirement already satisfied: tzdata>=2022.7 in /usr/local/lib/python3.12/dist-packages (from pandas) (2025.2)\n",
            "Requirement already satisfied: six>=1.5 in /usr/local/lib/python3.12/dist-packages (from python-dateutil>=2.8.2->pandas) (1.17.0)\n"
          ]
        }
      ],
      "source": [
        "!pip install pandas"
      ],
      "execution_count": 16
    },
    {
      "cell_type": "code",
      "metadata": {
        "colab": {
          "base_uri": "https://localhost:8080/"
        },
        "id": "728bc9df-12f8-42a1-8a5e-1c2664c2db0e",
        "outputId": "77aa5581-d502-4af5-f551-765e4c70406f"
      },
      "outputs": [
        {
          "output_type": "stream",
          "name": "stdout",
          "text": [
            "Requirement already satisfied: matplotlib in /usr/local/lib/python3.12/dist-packages (3.10.0)\n",
            "Requirement already satisfied: contourpy>=1.0.1 in /usr/local/lib/python3.12/dist-packages (from matplotlib) (1.3.3)\n",
            "Requirement already satisfied: cycler>=0.10 in /usr/local/lib/python3.12/dist-packages (from matplotlib) (0.12.1)\n",
            "Requirement already satisfied: fonttools>=4.22.0 in /usr/local/lib/python3.12/dist-packages (from matplotlib) (4.59.1)\n",
            "Requirement already satisfied: kiwisolver>=1.3.1 in /usr/local/lib/python3.12/dist-packages (from matplotlib) (1.4.9)\n",
            "Requirement already satisfied: numpy>=1.23 in /usr/local/lib/python3.12/dist-packages (from matplotlib) (2.0.2)\n",
            "Requirement already satisfied: packaging>=20.0 in /usr/local/lib/python3.12/dist-packages (from matplotlib) (25.0)\n",
            "Requirement already satisfied: pillow>=8 in /usr/local/lib/python3.12/dist-packages (from matplotlib) (11.3.0)\n",
            "Requirement already satisfied: pyparsing>=2.3.1 in /usr/local/lib/python3.12/dist-packages (from matplotlib) (3.2.3)\n",
            "Requirement already satisfied: python-dateutil>=2.7 in /usr/local/lib/python3.12/dist-packages (from matplotlib) (2.9.0.post0)\n",
            "Requirement already satisfied: six>=1.5 in /usr/local/lib/python3.12/dist-packages (from python-dateutil>=2.7->matplotlib) (1.17.0)\n"
          ]
        }
      ],
      "source": [
        "!pip install matplotlib"
      ],
      "execution_count": 17
    },
    {
      "cell_type": "code",
      "metadata": {
        "id": "34fc8019-d998-4846-b124-90595dc541a8"
      },
      "outputs": [],
      "source": [
        "import pandas as pd\n",
        "import matplotlib.pyplot as plt"
      ],
      "execution_count": 18
    },
    {
      "cell_type": "markdown",
      "metadata": {
        "id": "f6e3f861-1f8d-4507-ae81-f31cea56d467"
      },
      "source": [
        "### Step 2: Load the Dataset into a DataFrame\n"
      ]
    },
    {
      "cell_type": "markdown",
      "metadata": {
        "id": "a5416ad2-c0e7-4b07-b60e-4b77f04482b8"
      },
      "source": [
        "We use the <code>pandas.read_csv()</code> function for reading CSV files. However, in this version of the lab, which operates on JupyterLite, the dataset needs to be downloaded to the interface using the provided code below.\n"
      ]
    },
    {
      "cell_type": "markdown",
      "metadata": {
        "id": "00b426cc-aa4e-4b27-9aaf-1a9becc07d04"
      },
      "source": [
        "The functions below will download the dataset into your browser:\n"
      ]
    },
    {
      "cell_type": "code",
      "metadata": {
        "colab": {
          "base_uri": "https://localhost:8080/"
        },
        "id": "a475f4e8-8144-423d-a920-de8fda37bd3a",
        "outputId": "caf5fa58-cb37-4487-d3c4-a76b17b0f0f7"
      },
      "outputs": [
        {
          "output_type": "stream",
          "name": "stdout",
          "text": [
            "   ResponseId                      MainBranch                 Age  \\\n",
            "0           1  I am a developer by profession  Under 18 years old   \n",
            "1           2  I am a developer by profession     35-44 years old   \n",
            "2           3  I am a developer by profession     45-54 years old   \n",
            "3           4           I am learning to code     18-24 years old   \n",
            "4           5  I am a developer by profession     18-24 years old   \n",
            "\n",
            "            Employment RemoteWork   Check  \\\n",
            "0  Employed, full-time     Remote  Apples   \n",
            "1  Employed, full-time     Remote  Apples   \n",
            "2  Employed, full-time     Remote  Apples   \n",
            "3   Student, full-time        NaN  Apples   \n",
            "4   Student, full-time        NaN  Apples   \n",
            "\n",
            "                                    CodingActivities  \\\n",
            "0                                              Hobby   \n",
            "1  Hobby;Contribute to open-source projects;Other...   \n",
            "2  Hobby;Contribute to open-source projects;Other...   \n",
            "3                                                NaN   \n",
            "4                                                NaN   \n",
            "\n",
            "                                             EdLevel  \\\n",
            "0                          Primary/elementary school   \n",
            "1       Bachelor’s degree (B.A., B.S., B.Eng., etc.)   \n",
            "2    Master’s degree (M.A., M.S., M.Eng., MBA, etc.)   \n",
            "3  Some college/university study without earning ...   \n",
            "4  Secondary school (e.g. American high school, G...   \n",
            "\n",
            "                                           LearnCode  \\\n",
            "0                             Books / Physical media   \n",
            "1  Books / Physical media;Colleague;On the job tr...   \n",
            "2  Books / Physical media;Colleague;On the job tr...   \n",
            "3  Other online resources (e.g., videos, blogs, f...   \n",
            "4  Other online resources (e.g., videos, blogs, f...   \n",
            "\n",
            "                                     LearnCodeOnline  ... JobSatPoints_6  \\\n",
            "0                                                NaN  ...            NaN   \n",
            "1  Technical documentation;Blogs;Books;Written Tu...  ...            0.0   \n",
            "2  Technical documentation;Blogs;Books;Written Tu...  ...            NaN   \n",
            "3  Stack Overflow;How-to videos;Interactive tutorial  ...            NaN   \n",
            "4  Technical documentation;Blogs;Written Tutorial...  ...            NaN   \n",
            "\n",
            "  JobSatPoints_7 JobSatPoints_8 JobSatPoints_9 JobSatPoints_10  \\\n",
            "0            NaN            NaN            NaN             NaN   \n",
            "1            0.0            0.0            0.0             0.0   \n",
            "2            NaN            NaN            NaN             NaN   \n",
            "3            NaN            NaN            NaN             NaN   \n",
            "4            NaN            NaN            NaN             NaN   \n",
            "\n",
            "  JobSatPoints_11           SurveyLength SurveyEase ConvertedCompYearly JobSat  \n",
            "0             NaN                    NaN        NaN                 NaN    NaN  \n",
            "1             0.0                    NaN        NaN                 NaN    NaN  \n",
            "2             NaN  Appropriate in length       Easy                 NaN    NaN  \n",
            "3             NaN               Too long       Easy                 NaN    NaN  \n",
            "4             NaN              Too short       Easy                 NaN    NaN  \n",
            "\n",
            "[5 rows x 114 columns]\n"
          ]
        }
      ],
      "source": [
        "file_path = \"https://cf-courses-data.s3.us.cloud-object-storage.appdomain.cloud/n01PQ9pSmiRX6520flujwQ/survey-data.csv\"\n",
        "\n",
        "df = pd.read_csv(file_path)\n",
        "\n",
        "# Display the first few rows to check if data is loaded correctly\n",
        "print(df.head())\n"
      ],
      "execution_count": 36
    },
    {
      "cell_type": "code",
      "metadata": {
        "id": "34a51691-1397-44b4-ac53-fad59a946c15"
      },
      "outputs": [],
      "source": [
        "#df = pd.read_csv(\"https://cf-courses-data.s3.us.cloud-object-storage.appdomain.cloud/n01PQ9pSmiRX6520flujwQ/survey-data.csv\")"
      ],
      "execution_count": 20
    },
    {
      "cell_type": "markdown",
      "metadata": {
        "id": "66d28ff0-0e9a-4bfd-8e88-cc501b21d99f"
      },
      "source": [
        "### Section 1: Handling Duplicates\n",
        "##### Task 1: Identify and remove duplicate rows.\n"
      ]
    },
    {
      "cell_type": "code",
      "metadata": {
        "colab": {
          "base_uri": "https://localhost:8080/"
        },
        "id": "f109d159-84db-4868-b0d1-39c699ee118e",
        "outputId": "24abbe1f-994e-4d20-a608-f1d277f97e31"
      },
      "outputs": [
        {
          "output_type": "stream",
          "name": "stdout",
          "text": [
            "Number of duplicate rows: 0\n",
            "After removing duplicates: (65437, 114)\n"
          ]
        }
      ],
      "source": [
        "print(\"Number of duplicate rows:\", df.duplicated().sum())\n",
        "\n",
        "# Remove duplicates\n",
        "df.drop_duplicates(inplace=True)\n",
        "\n",
        "print(\"After removing duplicates:\", df.shape)\n"
      ],
      "execution_count": 21
    },
    {
      "cell_type": "markdown",
      "metadata": {
        "id": "2a2a636d-06e1-49f4-b8cc-9c1a25f72b3e"
      },
      "source": [
        "### Section 2: Handling Missing Values\n",
        "##### Task 2: Identify missing values in `CodingActivities`.\n"
      ]
    },
    {
      "cell_type": "code",
      "metadata": {
        "colab": {
          "base_uri": "https://localhost:8080/"
        },
        "id": "63c6b73c-0559-47af-82b4-9cb98880600e",
        "outputId": "b984ee98-7553-4d23-afba-b9f7c81aec8d"
      },
      "outputs": [
        {
          "output_type": "stream",
          "name": "stdout",
          "text": [
            "Missing values in CodingActivities: 10971\n"
          ]
        }
      ],
      "source": [
        "print(\"Missing values in CodingActivities:\", df['CodingActivities'].isnull().sum())\n"
      ],
      "execution_count": 22
    },
    {
      "cell_type": "markdown",
      "metadata": {
        "id": "26fd7018-e030-4023-a6ae-8b88b61cc969"
      },
      "source": [
        "##### Task 3: Impute missing values in CodingActivities with forward-fill.\n"
      ]
    },
    {
      "cell_type": "code",
      "metadata": {
        "colab": {
          "base_uri": "https://localhost:8080/"
        },
        "id": "8f9bc3ef-2e4d-4037-b059-8139b2e403da",
        "outputId": "690f8dbd-7358-4c99-bd41-5377adddf371"
      },
      "outputs": [
        {
          "output_type": "stream",
          "name": "stdout",
          "text": [
            "Missing values after forward fill: 0\n"
          ]
        },
        {
          "output_type": "stream",
          "name": "stderr",
          "text": [
            "/tmp/ipython-input-3389809385.py:1: FutureWarning: A value is trying to be set on a copy of a DataFrame or Series through chained assignment using an inplace method.\n",
            "The behavior will change in pandas 3.0. This inplace method will never work because the intermediate object on which we are setting values always behaves as a copy.\n",
            "\n",
            "For example, when doing 'df[col].method(value, inplace=True)', try using 'df.method({col: value}, inplace=True)' or df[col] = df[col].method(value) instead, to perform the operation inplace on the original object.\n",
            "\n",
            "\n",
            "  df['CodingActivities'].fillna(method='ffill', inplace=True)\n",
            "/tmp/ipython-input-3389809385.py:1: FutureWarning: Series.fillna with 'method' is deprecated and will raise in a future version. Use obj.ffill() or obj.bfill() instead.\n",
            "  df['CodingActivities'].fillna(method='ffill', inplace=True)\n"
          ]
        }
      ],
      "source": [
        "df['CodingActivities'].fillna(method='ffill', inplace=True)\n",
        "\n",
        "print(\"Missing values after forward fill:\", df['CodingActivities'].isnull().sum())"
      ],
      "execution_count": 23
    },
    {
      "cell_type": "markdown",
      "metadata": {
        "id": "6c0dfe92-d350-440b-87b7-4b0aa2b1dcdd"
      },
      "source": [
        "**Note**:  Before normalizing ConvertedCompYearly, ensure that any missing values (NaN) in this column are handled appropriately. You can choose to either drop the rows containing NaN or replace the missing values with a suitable statistic (e.g., median or mean).\n"
      ]
    },
    {
      "cell_type": "markdown",
      "metadata": {
        "id": "1c0aa65c-9b6a-4504-a0c7-5d9a9d0b0835"
      },
      "source": [
        "### Section 3: Normalizing Compensation Data\n",
        "##### Task 4: Identify compensation-related columns, such as ConvertedCompYearly.\n",
        "Normalization is commonly applied to compensation data to bring values within a comparable range. Here, you’ll identify ConvertedCompYearly or similar columns, which contain compensation information. This column will be used in the subsequent tasks for normalization.\n"
      ]
    },
    {
      "cell_type": "code",
      "metadata": {
        "colab": {
          "base_uri": "https://localhost:8080/"
        },
        "id": "8511a0f0-da8d-4831-9ca4-1fd6a1087f5e",
        "outputId": "0f0c3830-2f15-4e3d-9126-0df77e05ee86"
      },
      "outputs": [
        {
          "output_type": "stream",
          "name": "stdout",
          "text": [
            "Compensation-related columns: Index(['CompTotal', 'AIComplex', 'ConvertedCompYearly'], dtype='object')\n",
            "14725\n"
          ]
        }
      ],
      "source": [
        "comp_cols = df.filter(like='Comp').columns\n",
        "\n",
        "print(\"Compensation-related columns:\", comp_cols)\n",
        "\n",
        "df=df.dropna(subset=comp_cols)\n",
        "\n",
        "print(df.shape[0])"
      ],
      "execution_count": 37
    },
    {
      "cell_type": "markdown",
      "metadata": {
        "id": "d63b2199-3988-48bb-8b90-d39f120d9200"
      },
      "source": [
        "##### Task 5: Normalize ConvertedCompYearly using Min-Max Scaling.\n",
        "Min-Max Scaling brings all values in a column to a 0-1 range, making it useful for comparing data across different scales. Here, you will apply Min-Max normalization to the ConvertedCompYearly column, creating a new column ConvertedCompYearly_MinMax with normalized values.\n"
      ]
    },
    {
      "cell_type": "code",
      "metadata": {
        "colab": {
          "base_uri": "https://localhost:8080/"
        },
        "id": "91aef7db-414a-48ab-912b-7a4a1a29c01b",
        "outputId": "9cd75f8f-90f1-407e-c8c1-dd2304a258ea"
      },
      "outputs": [
        {
          "output_type": "stream",
          "name": "stdout",
          "text": [
            "     ConvertedCompYearly  ConvertedCompYearly_MinMax\n",
            "72                7322.0                    0.000450\n",
            "379              91295.0                    0.005616\n",
            "389             110000.0                    0.006766\n",
            "392             161044.0                    0.009906\n",
            "395             121018.0                    0.007444\n"
          ]
        }
      ],
      "source": [
        "# Min-Max normalization\n",
        "df['ConvertedCompYearly_MinMax'] = (\n",
        "    (df['ConvertedCompYearly'] - df['ConvertedCompYearly'].min()) /\n",
        "    (df['ConvertedCompYearly'].max() - df['ConvertedCompYearly'].min())\n",
        ")\n",
        "\n",
        "print(df[['ConvertedCompYearly', 'ConvertedCompYearly_MinMax']].head())"
      ],
      "execution_count": 38
    },
    {
      "cell_type": "markdown",
      "metadata": {
        "id": "dd173253-f7f4-4859-8ce5-cbb09458d957"
      },
      "source": [
        "##### Task 6: Apply Z-score Normalization to `ConvertedCompYearly`.\n",
        "\n",
        "Z-score normalization standardizes values by converting them to a distribution with a mean of 0 and a standard deviation of 1. This method is helpful for datasets with a Gaussian (normal) distribution. Here, you’ll calculate Z-scores for the ConvertedCompYearly column, saving the results in a new column ConvertedCompYearly_Zscore.\n"
      ]
    },
    {
      "cell_type": "code",
      "metadata": {
        "colab": {
          "base_uri": "https://localhost:8080/"
        },
        "id": "cab86a85-98f7-4fc6-a854-467d4e558f53",
        "outputId": "2518b561-a89e-4233-8473-27b5caca3232"
      },
      "outputs": [
        {
          "output_type": "stream",
          "name": "stdout",
          "text": [
            "     ConvertedCompYearly  ConvertedCompYearly_Zscore\n",
            "72                7322.0                   -0.373641\n",
            "379              91295.0                    0.043596\n",
            "389             110000.0                    0.136536\n",
            "392             161044.0                    0.390158\n",
            "395             121018.0                    0.191281\n"
          ]
        }
      ],
      "source": [
        "# Z-score normalization\n",
        "df['ConvertedCompYearly_Zscore'] = (\n",
        "    (df['ConvertedCompYearly'] - df['ConvertedCompYearly'].mean()) /\n",
        "    df['ConvertedCompYearly'].std()\n",
        ")\n",
        "\n",
        "print(df[['ConvertedCompYearly', 'ConvertedCompYearly_Zscore']].head())\n"
      ],
      "execution_count": 40
    },
    {
      "cell_type": "markdown",
      "metadata": {
        "id": "a50f7e51-30f5-4544-99f1-3fe2a39e6159"
      },
      "source": [
        "### Section 4: Visualization of Normalized Data\n",
        "##### Task 7: Visualize the distribution of `ConvertedCompYearly`, `ConvertedCompYearly_Normalized`, and `ConvertedCompYearly_Zscore`\n",
        "\n",
        "Visualization helps you understand how normalization changes the data distribution. In this task, create histograms for the original ConvertedCompYearly, as well as its normalized versions (ConvertedCompYearly_MinMax and ConvertedCompYearly_Zscore). This will help you compare how each normalization technique affects the data range and distribution.\n"
      ]
    },
    {
      "cell_type": "code",
      "metadata": {
        "colab": {
          "base_uri": "https://localhost:8080/",
          "height": 244
        },
        "id": "bd9a4298-7e5a-4ab1-b68d-0bbdce99b1c5",
        "outputId": "aa52ac42-50e2-4098-c13a-bd0711bdec7b"
      },
      "outputs": [
        {
          "output_type": "display_data",
          "data": {
            "text/plain": [
              "<Figure size 1500x500 with 3 Axes>"
            ],
            "image/png": "[encoded data removed]"
          },
          "metadata": {}
        }
      ],
      "source": [
        "plt.figure(figsize=(15, 5))\n",
        "\n",
        "# Original\n",
        "plt.subplot(1, 3, 1)\n",
        "plt.hist(df['ConvertedCompYearly'], bins=30, edgecolor='black')\n",
        "plt.title(\"Original Compensation\")\n",
        "plt.xlabel(\"Compensation\")\n",
        "plt.ylabel(\"Frequency\")\n",
        "\n",
        "# Min-Max\n",
        "plt.subplot(1, 3, 2)\n",
        "plt.hist(df['ConvertedCompYearly_MinMax'], bins=30, edgecolor='black', color = 'orange')\n",
        "plt.title(\"Min-Max Normalized\")\n",
        "plt.xlabel(\"Normalized Compensation\")\n",
        "\n",
        "# Z-score\n",
        "plt.subplot(1, 3, 3)\n",
        "plt.hist(df['ConvertedCompYearly_Zscore'], bins=30, edgecolor='black', color ='green')\n",
        "plt.title(\"Z-score Normalized\")\n",
        "plt.xlabel(\"Z-score Compensation\")\n",
        "\n",
        "plt.tight_layout()\n",
        "plt.show()\n"
      ],
      "execution_count": 45
    },
    {
      "cell_type": "markdown",
      "metadata": {
        "id": "e275a756-c307-4921-ad42-fd260ed14487"
      },
      "source": [
        "### Summary\n"
      ]
    },
    {
      "cell_type": "markdown",
      "metadata": {
        "id": "5d178018-4063-4616-8954-9c3a914564c1"
      },
      "source": [
        "In this lab, you practiced essential normalization techniques, including:\n",
        "\n",
        "- Identifying and handling duplicate rows.\n",
        "\n",
        "- Checking for and imputing missing values.\n",
        "\n",
        "- Applying Min-Max scaling and Z-score normalization to compensation data.\n",
        "\n",
        "- Visualizing the impact of normalization on data distribution.\n"
      ]
    },
    {
      "cell_type": "markdown",
      "metadata": {
        "id": "dbb23433-c177-41ff-9cbb-e77cecca5937"
      },
      "source": [
        "Copyright © IBM Corporation. All rights reserved.\n"
      ]
    }
  ],
  "metadata": {
    "kernelspec": {
      "display_name": "Python 3 (ipykernel)",
      "language": "python",
      "name": "python3"
    },
    "language_info": {
      "codemirror_mode": {
        "name": "ipython",
        "version": 3
      },
      "file_extension": ".py",
      "mimetype": "text/x-python",
      "name": "python",
      "nbconvert_exporter": "python",
      "pygments_lexer": "ipython3",
      "version": "3.11.9"
    },
    "prev_pub_hash": "5b2314eae200c68d20ee3204d822e6fad4f5845945b4895f383c3007af43740d",
    "colab": {
      "provenance": []
    }
  },
  "nbformat": 4,
  "nbformat_minor": 0
}