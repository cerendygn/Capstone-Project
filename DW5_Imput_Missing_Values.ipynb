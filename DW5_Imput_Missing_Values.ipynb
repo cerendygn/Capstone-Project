{
  "cells": [
    {
      "cell_type": "markdown",
      "metadata": {
        "id": "74466356-6758-4f74-b4ab-eff2df6e5ec5"
      },
      "source": [
        "<p style=\"text-align:center\">\n",
        "    <a href=\"https://skills.network\" target=\"_blank\">\n",
        "    <img src=\"https://cf-courses-data.s3.us.cloud-object-storage.appdomain.cloud/assets/logos/SN_web_lightmode.png\" width=\"200\" alt=\"Skills Network Logo\"  />\n",
        "    </a>\n",
        "</p>\n"
      ]
    },
    {
      "cell_type": "markdown",
      "metadata": {
        "id": "464a71fb-cf81-4e95-8210-e5e8ea156b22"
      },
      "source": [
        "# **Impute Missing Values**\n"
      ]
    },
    {
      "cell_type": "markdown",
      "metadata": {
        "id": "b1d346b4-f16b-4c56-a270-eb247487501a"
      },
      "source": [
        "Estimated time needed: **30** minutes\n"
      ]
    },
    {
      "cell_type": "markdown",
      "metadata": {
        "id": "c0c663ee-ce4e-451b-841d-b9e8ceb1a52c"
      },
      "source": [
        "In this lab, you will practice essential data wrangling techniques using the Stack Overflow survey dataset. The primary focus is on handling missing data and ensuring data quality. You will:\n",
        "\n",
        "- **Load the Data:** Import the dataset into a DataFrame using the pandas library.\n",
        "\n",
        "- **Clean the Data:** Identify and remove duplicate entries to maintain data integrity.\n",
        "\n",
        "- **Handle Missing Values:** Detect missing values, impute them with appropriate strategies, and verify the imputation to create a complete and reliable dataset for analysis.\n",
        "\n",
        "This lab equips you with the skills to effectively preprocess and clean real-world datasets, a crucial step in any data analysis project.\n"
      ]
    },
    {
      "cell_type": "markdown",
      "metadata": {
        "id": "ddd8c293-0565-4401-9e54-f9ea086d3113"
      },
      "source": [
        "## Objectives\n"
      ]
    },
    {
      "cell_type": "markdown",
      "metadata": {
        "id": "f8f48484-7179-4b2f-ad7f-24560fa0651c"
      },
      "source": [
        "In this lab, you will perform the following:\n"
      ]
    },
    {
      "cell_type": "markdown",
      "metadata": {
        "id": "16274089-f272-46f1-a2da-7eb42d0372a0"
      },
      "source": [
        "-   Identify missing values in the dataset.\n",
        "\n",
        "-   Apply techniques to impute missing values in the dataset.\n",
        "  \n",
        "-   Use suitable techniques to normalize data in the dataset.\n"
      ]
    },
    {
      "cell_type": "markdown",
      "metadata": {
        "id": "b6ed5515-0b50-4aa3-929b-08cac498bf82"
      },
      "source": [
        "-----\n"
      ]
    },
    {
      "cell_type": "markdown",
      "metadata": {
        "id": "6710d704-7a2c-4eb5-b28f-c52834908770"
      },
      "source": [
        "#### Install needed library\n"
      ]
    },
    {
      "cell_type": "code",
      "metadata": {
        "colab": {
          "base_uri": "https://localhost:8080/"
        },
        "id": "f5b5f18a-2a73-427f-88c4-3267bf1cc945",
        "outputId": "b6ec79fb-d679-4732-b67c-4fa2077872f7"
      },
      "outputs": [
        {
          "output_type": "stream",
          "name": "stdout",
          "text": [
            "Requirement already satisfied: pandas in /usr/local/lib/python3.12/dist-packages (2.2.2)\n",
            "Requirement already satisfied: numpy>=1.26.0 in /usr/local/lib/python3.12/dist-packages (from pandas) (2.0.2)\n",
            "Requirement already satisfied: python-dateutil>=2.8.2 in /usr/local/lib/python3.12/dist-packages (from pandas) (2.9.0.post0)\n",
            "Requirement already satisfied: pytz>=2020.1 in /usr/local/lib/python3.12/dist-packages (from pandas) (2025.2)\n",
            "Requirement already satisfied: tzdata>=2022.7 in /usr/local/lib/python3.12/dist-packages (from pandas) (2025.2)\n",
            "Requirement already satisfied: six>=1.5 in /usr/local/lib/python3.12/dist-packages (from python-dateutil>=2.8.2->pandas) (1.17.0)\n"
          ]
        }
      ],
      "source": [
        "!pip install pandas"
      ],
      "execution_count": 1
    },
    {
      "cell_type": "markdown",
      "metadata": {
        "id": "5487051f-ccad-4a05-b848-f416bb2ccb66"
      },
      "source": [
        "### Step 1: Import Required Libraries\n"
      ]
    },
    {
      "cell_type": "code",
      "metadata": {
        "id": "188a365e-9df7-4238-80b2-d15e279ac133"
      },
      "outputs": [],
      "source": [
        "import pandas as pd"
      ],
      "execution_count": null
    },
    {
      "cell_type": "markdown",
      "metadata": {
        "id": "a0266776-f4e9-4690-b57d-1694af0619aa"
      },
      "source": [
        "### Step 2: Load the Dataset Into a Dataframe\n"
      ]
    },
    {
      "cell_type": "markdown",
      "metadata": {
        "id": "64e7a616-9a52-4854-b846-256b0ee941fb"
      },
      "source": [
        "#### **Read Data**\n",
        "<p>\n",
        "The functions below will download the dataset into your browser:\n",
        "</p>\n"
      ]
    },
    {
      "cell_type": "code",
      "metadata": {
        "colab": {
          "base_uri": "https://localhost:8080/"
        },
        "id": "29cfa626-8226-463a-9e93-4f2c2d333e23",
        "outputId": "846932f8-054d-40d1-a8d7-e83ce2191f02"
      },
      "outputs": [
        {
          "output_type": "stream",
          "name": "stdout",
          "text": [
            "65437\n",
            "   ResponseId                      MainBranch                 Age  \\\n",
            "0           1  I am a developer by profession  Under 18 years old   \n",
            "1           2  I am a developer by profession     35-44 years old   \n",
            "2           3  I am a developer by profession     45-54 years old   \n",
            "3           4           I am learning to code     18-24 years old   \n",
            "4           5  I am a developer by profession     18-24 years old   \n",
            "\n",
            "            Employment RemoteWork   Check  \\\n",
            "0  Employed, full-time     Remote  Apples   \n",
            "1  Employed, full-time     Remote  Apples   \n",
            "2  Employed, full-time     Remote  Apples   \n",
            "3   Student, full-time        NaN  Apples   \n",
            "4   Student, full-time        NaN  Apples   \n",
            "\n",
            "                                    CodingActivities  \\\n",
            "0                                              Hobby   \n",
            "1  Hobby;Contribute to open-source projects;Other...   \n",
            "2  Hobby;Contribute to open-source projects;Other...   \n",
            "3                                                NaN   \n",
            "4                                                NaN   \n",
            "\n",
            "                                             EdLevel  \\\n",
            "0                          Primary/elementary school   \n",
            "1       Bachelor’s degree (B.A., B.S., B.Eng., etc.)   \n",
            "2    Master’s degree (M.A., M.S., M.Eng., MBA, etc.)   \n",
            "3  Some college/university study without earning ...   \n",
            "4  Secondary school (e.g. American high school, G...   \n",
            "\n",
            "                                           LearnCode  \\\n",
            "0                             Books / Physical media   \n",
            "1  Books / Physical media;Colleague;On the job tr...   \n",
            "2  Books / Physical media;Colleague;On the job tr...   \n",
            "3  Other online resources (e.g., videos, blogs, f...   \n",
            "4  Other online resources (e.g., videos, blogs, f...   \n",
            "\n",
            "                                     LearnCodeOnline  ... JobSatPoints_6  \\\n",
            "0                                                NaN  ...            NaN   \n",
            "1  Technical documentation;Blogs;Books;Written Tu...  ...            0.0   \n",
            "2  Technical documentation;Blogs;Books;Written Tu...  ...            NaN   \n",
            "3  Stack Overflow;How-to videos;Interactive tutorial  ...            NaN   \n",
            "4  Technical documentation;Blogs;Written Tutorial...  ...            NaN   \n",
            "\n",
            "  JobSatPoints_7 JobSatPoints_8 JobSatPoints_9 JobSatPoints_10  \\\n",
            "0            NaN            NaN            NaN             NaN   \n",
            "1            0.0            0.0            0.0             0.0   \n",
            "2            NaN            NaN            NaN             NaN   \n",
            "3            NaN            NaN            NaN             NaN   \n",
            "4            NaN            NaN            NaN             NaN   \n",
            "\n",
            "  JobSatPoints_11           SurveyLength SurveyEase ConvertedCompYearly JobSat  \n",
            "0             NaN                    NaN        NaN                 NaN    NaN  \n",
            "1             0.0                    NaN        NaN                 NaN    NaN  \n",
            "2             NaN  Appropriate in length       Easy                 NaN    NaN  \n",
            "3             NaN               Too long       Easy                 NaN    NaN  \n",
            "4             NaN              Too short       Easy                 NaN    NaN  \n",
            "\n",
            "[5 rows x 114 columns]\n"
          ]
        }
      ],
      "source": [
        "file_path = \"https://cf-courses-data.s3.us.cloud-object-storage.appdomain.cloud/n01PQ9pSmiRX6520flujwQ/survey-data.csv\"\n",
        "df = pd.read_csv(file_path)\n",
        "\n",
        "# Display the first few rows to ensure it loaded correctly\n",
        "print(df.shape[0])\n",
        "print(df.head())"
      ],
      "execution_count": 6
    },
    {
      "cell_type": "markdown",
      "metadata": {
        "id": "87ba2b4b-aa12-467d-8397-f2092dd5ce2d"
      },
      "source": [
        "### Step 3. Finding and Removing Duplicates\n",
        "##### Task 1: Identify duplicate rows in the dataset.\n"
      ]
    },
    {
      "cell_type": "code",
      "metadata": {
        "colab": {
          "base_uri": "https://localhost:8080/"
        },
        "id": "a7c2b5aa-6bca-4ea2-80ea-834b7f0e7f50",
        "outputId": "8e67c204-f5fc-4352-9ce9-12adae2e7730"
      },
      "outputs": [
        {
          "output_type": "stream",
          "name": "stdout",
          "text": [
            "Number of duplicate rows: 0\n"
          ]
        }
      ],
      "source": [
        "duplicates = df.duplicated()\n",
        "print(\"Number of duplicate rows:\", duplicates.sum())"
      ],
      "execution_count": 7
    },
    {
      "cell_type": "markdown",
      "metadata": {
        "id": "e9572ce8-3716-4acf-aaff-d6531a16693d"
      },
      "source": [
        "##### Task 2: Remove the duplicate rows from the dataframe.\n",
        "\n"
      ]
    },
    {
      "cell_type": "code",
      "metadata": {
        "colab": {
          "base_uri": "https://localhost:8080/"
        },
        "id": "8612b6bc-feab-42b0-9072-562d9d7ffa50",
        "outputId": "a8b7c874-acf4-42f1-9e07-d41e050d73b5"
      },
      "outputs": [
        {
          "output_type": "stream",
          "name": "stdout",
          "text": [
            "After removing duplicates, shape of dataframe: (65437, 114)\n"
          ]
        }
      ],
      "source": [
        "df.drop_duplicates(inplace=True, keep=\"first\")\n",
        "\n",
        "print(\"After removing duplicates, shape of dataframe:\", df.shape)"
      ],
      "execution_count": 8
    },
    {
      "cell_type": "markdown",
      "metadata": {
        "id": "a618ea68-6987-4637-90c3-cb4fe75903c5"
      },
      "source": [
        "### Step 4: Finding Missing Values\n",
        "##### Task 3: Find the missing values for all columns.\n"
      ]
    },
    {
      "cell_type": "code",
      "metadata": {
        "colab": {
          "base_uri": "https://localhost:8080/"
        },
        "id": "02d297a0-d346-4cf1-a611-abbaa9b122f4",
        "outputId": "8389792a-2745-4284-ecbe-025e1fd0c918"
      },
      "outputs": [
        {
          "output_type": "stream",
          "name": "stdout",
          "text": [
            "Amount of missing values for each column: ResponseId                 0\n",
            "MainBranch                 0\n",
            "Age                        0\n",
            "Employment                 0\n",
            "RemoteWork             10631\n",
            "                       ...  \n",
            "JobSatPoints_11        35992\n",
            "SurveyLength            9255\n",
            "SurveyEase              9199\n",
            "ConvertedCompYearly    42002\n",
            "JobSat                 36311\n",
            "Length: 114, dtype: int64\n"
          ]
        }
      ],
      "source": [
        "missing_values = df.isnull().sum()\n",
        "print(\"Amount of missing values for each column:\", missing_values)"
      ],
      "execution_count": 11
    },
    {
      "cell_type": "markdown",
      "metadata": {
        "id": "18019a73-81cc-46de-99e8-cf49fe7e936d"
      },
      "source": [
        "##### Task 4: Find out how many rows are missing in the column RemoteWork.\n"
      ]
    },
    {
      "cell_type": "code",
      "metadata": {
        "colab": {
          "base_uri": "https://localhost:8080/"
        },
        "id": "b5f3e1ae-c149-4a84-8b78-dea41444dfae",
        "outputId": "254c8df9-f054-4926-e296-6456f6729434"
      },
      "outputs": [
        {
          "output_type": "stream",
          "name": "stdout",
          "text": [
            "Number of missing rows in 'RemoteWork': 10631\n"
          ]
        }
      ],
      "source": [
        "missing_remotework = df['RemoteWork'].isnull().sum()\n",
        "print(\"Number of missing rows in 'RemoteWork':\", missing_remotework)"
      ],
      "execution_count": 10
    },
    {
      "cell_type": "markdown",
      "metadata": {
        "id": "3f499b03-1e74-4e7b-ab3f-13e825d45336"
      },
      "source": [
        "### Step 5. Imputing Missing Values\n",
        "##### Task 5: Find the value counts for the column RemoteWork.\n"
      ]
    },
    {
      "cell_type": "code",
      "metadata": {
        "colab": {
          "base_uri": "https://localhost:8080/"
        },
        "id": "d5d5fd16-8b03-4f3b-9443-88d1ed8d351c",
        "outputId": "9f38d0a0-d67a-46c9-803f-fdab72e17fbe"
      },
      "outputs": [
        {
          "output_type": "stream",
          "name": "stdout",
          "text": [
            "RemoteWork\n",
            "Hybrid (some remote, some in-person)    23015\n",
            "Remote                                  20831\n",
            "In-person                               10960\n",
            "Name: count, dtype: int64\n"
          ]
        }
      ],
      "source": [
        "# Count values in RemoteWork\n",
        "print(df['RemoteWork'].value_counts())"
      ],
      "execution_count": 12
    },
    {
      "cell_type": "markdown",
      "metadata": {
        "id": "7323936a-5465-4434-ba48-1d0a24eb263c"
      },
      "source": [
        "##### Task 6: Identify the most frequent (majority) value in the RemoteWork column.\n",
        "\n"
      ]
    },
    {
      "cell_type": "code",
      "metadata": {
        "colab": {
          "base_uri": "https://localhost:8080/"
        },
        "id": "bea2746f-1cf9-421e-a3f7-b69fa6464076",
        "outputId": "da49b239-8b50-40d7-8774-fda028b5c2ef"
      },
      "outputs": [
        {
          "output_type": "stream",
          "name": "stdout",
          "text": [
            "Most frequent value in 'RemoteWork': Hybrid (some remote, some in-person)\n"
          ]
        }
      ],
      "source": [
        "# Find the most frequent value\n",
        "majority_value = df['RemoteWork'].mode()[0]\n",
        "print(\"Most frequent value in 'RemoteWork':\", majority_value)"
      ],
      "execution_count": 13
    },
    {
      "cell_type": "markdown",
      "metadata": {
        "id": "c0210577-6fc7-4e52-8fad-f84835da0956"
      },
      "source": [
        "##### Task 7: Impute (replace) all the empty rows in the column RemoteWork with the majority value.\n",
        "\n"
      ]
    },
    {
      "cell_type": "code",
      "metadata": {
        "colab": {
          "base_uri": "https://localhost:8080/"
        },
        "id": "5d91447d-834b-4bb6-8fa5-57b88c8eaa13",
        "outputId": "d01f6f51-625b-4045-b87a-1394cce15d02"
      },
      "outputs": [
        {
          "output_type": "stream",
          "name": "stdout",
          "text": [
            "Missing values after imputation: 0\n"
          ]
        },
        {
          "output_type": "stream",
          "name": "stderr",
          "text": [
            "/tmp/ipython-input-1802793610.py:2: FutureWarning: A value is trying to be set on a copy of a DataFrame or Series through chained assignment using an inplace method.\n",
            "The behavior will change in pandas 3.0. This inplace method will never work because the intermediate object on which we are setting values always behaves as a copy.\n",
            "\n",
            "For example, when doing 'df[col].method(value, inplace=True)', try using 'df.method({col: value}, inplace=True)' or df[col] = df[col].method(value) instead, to perform the operation inplace on the original object.\n",
            "\n",
            "\n",
            "  df['RemoteWork'].fillna(majority_value, inplace=True)\n"
          ]
        }
      ],
      "source": [
        "# Fill missing values with majority value\n",
        "df['RemoteWork'].fillna(majority_value, inplace=True)\n",
        "\n",
        "print(\"Missing values after imputation:\", df['RemoteWork'].isnull().sum())"
      ],
      "execution_count": 14
    },
    {
      "cell_type": "markdown",
      "metadata": {
        "id": "d9b3b12d-d8b7-4502-b6a3-d721207c0ca3"
      },
      "source": [
        "##### Task 8: Check for any compensation-related columns and describe their distribution.\n",
        "\n",
        "> Add blockquote\n",
        "\n",
        "\n",
        "\n"
      ]
    },
    {
      "cell_type": "code",
      "metadata": {
        "colab": {
          "base_uri": "https://localhost:8080/"
        },
        "id": "9e258f23-dc60-4495-badb-102a1bb5d26b",
        "outputId": "a0c31608-2456-40b2-d530-aad9e3c525b1"
      },
      "outputs": [
        {
          "output_type": "stream",
          "name": "stdout",
          "text": [
            "Compensation-related columns: ['CompTotal', 'AIComplex', 'ConvertedCompYearly']\n",
            "\n",
            "Distribution for CompTotal:\n",
            "count     3.374000e+04\n",
            "mean     2.963841e+145\n",
            "std      5.444117e+147\n",
            "min       0.000000e+00\n",
            "25%       6.000000e+04\n",
            "50%       1.100000e+05\n",
            "75%       2.500000e+05\n",
            "max      1.000000e+150\n",
            "Name: CompTotal, dtype: float64\n",
            "\n",
            "Distribution for AIComplex:\n",
            "count                                             37021\n",
            "unique                                                5\n",
            "top       Good, but not great at handling complex tasks\n",
            "freq                                              12102\n",
            "Name: AIComplex, dtype: object\n",
            "\n",
            "Distribution for ConvertedCompYearly:\n",
            "count    2.343500e+04\n",
            "mean     8.615529e+04\n",
            "std      1.867570e+05\n",
            "min      1.000000e+00\n",
            "25%      3.271200e+04\n",
            "50%      6.500000e+04\n",
            "75%      1.079715e+05\n",
            "max      1.625660e+07\n",
            "Name: ConvertedCompYearly, dtype: float64\n"
          ]
        }
      ],
      "source": [
        "# Check which columns might be related to compensation\n",
        "comp_cols = [col for col in df.columns if \"Comp\" in col or \"Salary\" in col or \"Pay\" in col]\n",
        "print(\"Compensation-related columns:\", comp_cols)\n",
        "\n",
        "# Describe distribution for each\n",
        "for col in comp_cols:\n",
        "    print(f\"\\nDistribution for {col}:\")\n",
        "    print(df[col].describe())"
      ],
      "execution_count": 16
    },
    {
      "cell_type": "markdown",
      "metadata": {
        "id": "ba442929-13cc-4420-aff3-2659ed8b4baa"
      },
      "source": [
        "### Summary\n"
      ]
    },
    {
      "cell_type": "markdown",
      "metadata": {
        "id": "856431bf-53ef-449a-bd58-25105598e17f"
      },
      "source": [
        "**In this lab, you focused on imputing missing values in the dataset.**\n",
        "\n",
        "- Use the <code>pandas.read_csv()</code> function to load a dataset from a CSV file into a DataFrame.\n",
        "\n",
        "- Download the dataset if it's not available online and specify the correct file path.\n",
        "\n"
      ]
    },
    {
      "cell_type": "markdown",
      "metadata": {
        "id": "b61dfe67-834d-456d-b6c9-83d09c87fa2f"
      },
      "source": [
        "<!--\n",
        "## Change Log\n",
        "|Date (YYYY-MM-DD)|Version|Changed By|Change Description|\n",
        "|-|-|-|-|\n",
        "|2024-11-05|1.3|Madhusudhan Moole|Updated lab|\n",
        "|2024-10-29|1.2|Madhusudhan Moole|Updated lab|\n",
        "|2024-09-27|1.1|Madhusudhan Moole|Updated lab|\n",
        "|2024-09-26|1.0|Raghul Ramesh|Created lab|\n",
        "--!>\n"
      ]
    },
    {
      "cell_type": "markdown",
      "metadata": {
        "id": "499fc479-e7da-41aa-b41b-6c8ba5ee57d9"
      },
      "source": [
        "Copyright © IBM Corporation. All rights reserved.\n"
      ]
    }
  ],
  "metadata": {
    "kernelspec": {
      "display_name": "Python 3 (ipykernel)",
      "language": "python",
      "name": "python3"
    },
    "language_info": {
      "codemirror_mode": {
        "name": "ipython",
        "version": 3
      },
      "file_extension": ".py",
      "mimetype": "text/x-python",
      "name": "python",
      "nbconvert_exporter": "python",
      "pygments_lexer": "ipython3",
      "version": "3.11.9"
    },
    "prev_pub_hash": "70ab641719bca2be0bdcb38f6a8b5de7851b6e9c28d41b9407096c62e74916a6",
    "colab": {
      "provenance": []
    }
  },
  "nbformat": 4,
  "nbformat_minor": 0
}